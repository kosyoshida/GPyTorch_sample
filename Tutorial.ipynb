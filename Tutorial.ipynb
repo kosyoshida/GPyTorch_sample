{
 "cells": [
  {
   "cell_type": "markdown",
   "metadata": {},
   "source": [
    "gpytorch.kernelsの使い方"
   ]
  },
  {
   "cell_type": "code",
   "execution_count": 7,
   "metadata": {},
   "outputs": [],
   "source": [
    "import torch\n",
    "import gpytorch\n",
    "x = torch.tensor([[1,0],[0,1]])"
   ]
  },
  {
   "cell_type": "code",
   "execution_count": 38,
   "metadata": {},
   "outputs": [
    {
     "name": "stdout",
     "output_type": "stream",
     "text": [
      "tensor([[1., 0.],\n",
      "        [0., 1.]], grad_fn=<MmBackward>)\n"
     ]
    }
   ],
   "source": [
    "# linear kernel : v XTX\n",
    "covar_module = gpytorch.kernels.LinearKernel()\n",
    "covar_module.variance = 1.0 # v\n",
    "covar_x = covar_module(x)\n",
    "covar_x = covar_x.evaluate()\n",
    "print(covar_x)"
   ]
  },
  {
   "cell_type": "code",
   "execution_count": 39,
   "metadata": {},
   "outputs": [
    {
     "name": "stdout",
     "output_type": "stream",
     "text": [
      "tensor([[1.0000, 0.3679],\n",
      "        [0.3679, 1.0000]], grad_fn=<RBFCovarianceBackward>)\n"
     ]
    }
   ],
   "source": [
    "# RBF kernel\n",
    "covar_module = gpytorch.kernels.RBFKernel()\n",
    "covar_module.lengthscale = 1.0\n",
    "covar_x = covar_module(x)\n",
    "covar_x = covar_x.evaluate()\n",
    "print(covar_x)"
   ]
  },
  {
   "cell_type": "code",
   "execution_count": 40,
   "metadata": {},
   "outputs": [
    {
     "name": "stdout",
     "output_type": "stream",
     "text": [
      "tensor([[5.0000, 0.7358],\n",
      "        [0.7358, 5.0000]], grad_fn=<AddBackward0>)\n"
     ]
    }
   ],
   "source": [
    "# 2*RBF\n",
    "rbf_module = gpytorch.kernels.RBFKernel()\n",
    "rbf_module.lengthscale = 1.0\n",
    "first_module = gpytorch.kernels.ScaleKernel(rbf_module)\n",
    "first_module.outputscale = 2.0\n",
    "\n",
    "# 3*Linear\n",
    "lin_module = gpytorch.kernels.LinearKernel()\n",
    "lin_module.variance = 1.0\n",
    "second_module = gpytorch.kernels.ScaleKernel(lin_module)\n",
    "second_module.outputscale = 3.0\n",
    "\n",
    "# add\n",
    "covar_module = first_module + second_module\n",
    "covar_x = covar_module(x)\n",
    "covar_x = covar_x.evaluate()\n",
    "print(covar_x)"
   ]
  },
  {
   "cell_type": "code",
   "execution_count": null,
   "metadata": {},
   "outputs": [],
   "source": []
  }
 ],
 "metadata": {
  "kernelspec": {
   "display_name": "Python 3",
   "language": "python",
   "name": "python3"
  },
  "language_info": {
   "codemirror_mode": {
    "name": "ipython",
    "version": 3
   },
   "file_extension": ".py",
   "mimetype": "text/x-python",
   "name": "python",
   "nbconvert_exporter": "python",
   "pygments_lexer": "ipython3",
   "version": "3.6.1"
  }
 },
 "nbformat": 4,
 "nbformat_minor": 2
}
